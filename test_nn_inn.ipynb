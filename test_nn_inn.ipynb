{
 "cells": [
  {
   "cell_type": "code",
   "execution_count": 53,
   "metadata": {},
   "outputs": [
    {
     "name": "stdout",
     "output_type": "stream",
     "text": [
      "nfp_inverse_solver = 2 and nfp_forward_solver = 2\n"
     ]
    }
   ],
   "source": [
    "import re\n",
    "import jax\n",
    "import numpy as np\n",
    "from qsc import Qsc\n",
    "import jax.numpy as jnp\n",
    "from flax import serialization\n",
    "from scipy.optimize import root\n",
    "from train_inn import DeepNN as i_DeepNN, number_of_x_parameters as i_number_of_x_parameters, model_save_path as i_model_save_path\n",
    "from train_nn import DeepNN as f_DeepNN, number_of_x_parameters as f_number_of_x_parameters, model_save_path as f_model_save_path\n",
    "i_nfp = int(re.search('nfp(\\d+)', i_model_save_path).group(1))\n",
    "f_nfp = int(re.search('nfp(\\d+)', f_model_save_path).group(1))\n",
    "print(f'nfp_inverse_solver = {i_nfp} and nfp_forward_solver = {f_nfp}')\n",
    "# Load i_NN\n",
    "i_model = i_DeepNN()\n",
    "i_dummy_input = jnp.ones((1, i_number_of_x_parameters))\n",
    "i_init_params = i_model.init(jax.random.PRNGKey(0), i_dummy_input)\n",
    "with open(i_model_save_path, 'rb') as f:\n",
    "    i_bytes_params = f.read()\n",
    "i_params = serialization.from_bytes(i_init_params, i_bytes_params)\n",
    "# Load f_NN\n",
    "f_model = f_DeepNN()\n",
    "f_dummy_input = jnp.ones((1, f_number_of_x_parameters))\n",
    "f_init_params = f_model.init(jax.random.PRNGKey(0), f_dummy_input)\n",
    "with open(f_model_save_path, 'rb') as f:\n",
    "    f_bytes_params = f.read()\n",
    "f_params = serialization.from_bytes(f_init_params, f_bytes_params)"
   ]
  },
  {
   "cell_type": "code",
   "execution_count": 63,
   "metadata": {},
   "outputs": [
    {
     "name": "stdout",
     "output_type": "stream",
     "text": [
      "5.61 ms ± 26.2 µs per loop (mean ± std. dev. of 7 runs, 100 loops each)\n",
      "503 ms ± 9.72 ms per loop (mean ± std. dev. of 7 runs, 1 loop each)\n",
      "predicted = [0.07039151 0.07435976 1.3126286 ]\n",
      "true = [0.06373385 0.08085611 1.32867536]\n"
     ]
    }
   ],
   "source": [
    "# Test iNN\n",
    "iota=0.1\n",
    "elongation = 3.1\n",
    "maxiLgradB = 1.2\n",
    "wanted_stel_geometry = [iota, elongation, maxiLgradB]\n",
    "%timeit predicted = i_model.apply(i_params, wanted_stel_geometry)\n",
    "def objective(x):\n",
    "    stel = Qsc(rc=[1,-x[0]], zs=[0, x[1]], nfp=i_nfp, etabar=x[2], nphi=51)\n",
    "    result = np.array([stel.iota, float(np.max(stel.elongation)), np.max(stel.inv_L_grad_B)])\n",
    "    return (result - wanted_stel_geometry)**2\n",
    "%timeit true = root(objective, x0=predicted).x\n",
    "print(f'predicted = {predicted}')\n",
    "print(f'true = {true}')\n"
   ]
  },
  {
   "cell_type": "code",
   "execution_count": 49,
   "metadata": {},
   "outputs": [
    {
     "name": "stdout",
     "output_type": "stream",
     "text": [
      "5.61 ms ± 20 µs per loop (mean ± std. dev. of 7 runs, 100 loops each)\n",
      "5.33 ms ± 176 µs per loop (mean ± std. dev. of 7 runs, 100 loops each)\n",
      "predicted = [0.0770195 5.010864  1.3075962]\n",
      "true = [0.07573669243475663, 5.101711383433303, 1.3051728263887241]\n"
     ]
    }
   ],
   "source": [
    "# Test NN\n",
    "rc = 0.06\n",
    "zs = 0.1\n",
    "etabar = 0.5\n",
    "%timeit predicted_stel_geometry = f_model.apply(f_params, [rc, zs, etabar])\n",
    "%timeit stel = Qsc(rc=[1,-rc], zs=[0, zs], nfp=f_nfp, etabar=etabar, nphi=51)\n",
    "true_stel_geometry = [stel.iota, float(np.max(stel.elongation)), np.max(stel.inv_L_grad_B)]\n",
    "print(f'predicted = {predicted_stel_geometry}')\n",
    "print(f'true = {true_stel_geometry}')"
   ]
  }
 ],
 "metadata": {
  "kernelspec": {
   "display_name": "Python 3",
   "language": "python",
   "name": "python3"
  },
  "language_info": {
   "codemirror_mode": {
    "name": "ipython",
    "version": 3
   },
   "file_extension": ".py",
   "mimetype": "text/x-python",
   "name": "python",
   "nbconvert_exporter": "python",
   "pygments_lexer": "ipython3",
   "version": "3.11.6"
  }
 },
 "nbformat": 4,
 "nbformat_minor": 2
}
